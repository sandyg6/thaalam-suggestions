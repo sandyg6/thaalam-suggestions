{
 "cells": [
  {
   "cell_type": "markdown",
   "metadata": {},
   "source": [
    "Installing libraries"
   ]
  },
  {
   "cell_type": "code",
   "execution_count": 3,
   "metadata": {},
   "outputs": [
    {
     "name": "stdout",
     "output_type": "stream",
     "text": [
      "Collecting VaaniNLPNote: you may need to restart the kernel to use updated packages.\n",
      "\n",
      "  Downloading VaaniNLP-0.0.5-py3-none-any.whl.metadata (658 bytes)\n",
      "Downloading VaaniNLP-0.0.5-py3-none-any.whl (7.0 kB)\n",
      "Installing collected packages: VaaniNLP\n",
      "Successfully installed VaaniNLP-0.0.5\n"
     ]
    }
   ],
   "source": [
    "pip install VaaniNLP"
   ]
  },
  {
   "cell_type": "code",
   "execution_count": 4,
   "metadata": {},
   "outputs": [
    {
     "name": "stdout",
     "output_type": "stream",
     "text": [
      "Collecting tamil\n",
      "  Downloading tamil-0.3-py3-none-any.whl.metadata (437 bytes)\n",
      "Downloading tamil-0.3-py3-none-any.whl (208 kB)\n",
      "   ---------------------------------------- 0.0/208.9 kB ? eta -:--:--\n",
      "   - -------------------------------------- 10.2/208.9 kB ? eta -:--:--\n",
      "   ----------- --------------------------- 61.4/208.9 kB 544.7 kB/s eta 0:00:01\n",
      "   ---------------------------------------  204.8/208.9 kB 1.6 MB/s eta 0:00:01\n",
      "   ---------------------------------------- 208.9/208.9 kB 1.4 MB/s eta 0:00:00\n",
      "Installing collected packages: tamil\n",
      "Successfully installed tamil-0.3\n",
      "Note: you may need to restart the kernel to use updated packages.\n"
     ]
    }
   ],
   "source": [
    "pip install tamil"
   ]
  },
  {
   "cell_type": "code",
   "execution_count": 5,
   "metadata": {},
   "outputs": [
    {
     "name": "stdout",
     "output_type": "stream",
     "text": [
      "Note: you may need to restart the kernel to use updated packages.\n"
     ]
    },
    {
     "name": "stderr",
     "output_type": "stream",
     "text": [
      "  WARNING: The script f2py.exe is installed in 'c:\\Users\\sandh\\AppData\\Local\\Programs\\Python\\Python312\\Scripts' which is not on PATH.\n",
      "  Consider adding this directory to PATH or, if you prefer to suppress this warning, use --no-warn-script-location.\n"
     ]
    },
    {
     "name": "stdout",
     "output_type": "stream",
     "text": [
      "Collecting numpy\n",
      "  Downloading numpy-1.26.4-cp312-cp312-win_amd64.whl.metadata (61 kB)\n",
      "     ---------------------------------------- 0.0/61.0 kB ? eta -:--:--\n",
      "     ------ --------------------------------- 10.2/61.0 kB ? eta -:--:--\n",
      "     ------------------------- ------------ 41.0/61.0 kB 495.5 kB/s eta 0:00:01\n",
      "     ------------------------------- ------ 51.2/61.0 kB 440.4 kB/s eta 0:00:01\n",
      "     -------------------------------------- 61.0/61.0 kB 406.4 kB/s eta 0:00:00\n",
      "Downloading numpy-1.26.4-cp312-cp312-win_amd64.whl (15.5 MB)\n",
      "   ---------------------------------------- 0.0/15.5 MB ? eta -:--:--\n",
      "   ---------------------------------------- 0.1/15.5 MB 3.6 MB/s eta 0:00:05\n",
      "    --------------------------------------- 0.4/15.5 MB 4.6 MB/s eta 0:00:04\n",
      "   - -------------------------------------- 0.5/15.5 MB 4.1 MB/s eta 0:00:04\n",
      "   - -------------------------------------- 0.6/15.5 MB 3.6 MB/s eta 0:00:05\n",
      "   - -------------------------------------- 0.7/15.5 MB 3.4 MB/s eta 0:00:05\n",
      "   -- ------------------------------------- 0.8/15.5 MB 3.4 MB/s eta 0:00:05\n",
      "   -- ------------------------------------- 1.0/15.5 MB 3.2 MB/s eta 0:00:05\n",
      "   --- ------------------------------------ 1.2/15.5 MB 3.4 MB/s eta 0:00:05\n",
      "   --- ------------------------------------ 1.3/15.5 MB 3.2 MB/s eta 0:00:05\n",
      "   --- ------------------------------------ 1.5/15.5 MB 3.4 MB/s eta 0:00:05\n",
      "   ---- ----------------------------------- 1.6/15.5 MB 3.3 MB/s eta 0:00:05\n",
      "   ---- ----------------------------------- 1.9/15.5 MB 3.5 MB/s eta 0:00:04\n",
      "   ----- ---------------------------------- 2.0/15.5 MB 3.4 MB/s eta 0:00:04\n",
      "   ----- ---------------------------------- 2.1/15.5 MB 3.4 MB/s eta 0:00:04\n",
      "   ----- ---------------------------------- 2.3/15.5 MB 3.5 MB/s eta 0:00:04\n",
      "   ------ --------------------------------- 2.5/15.5 MB 3.6 MB/s eta 0:00:04\n",
      "   ------- -------------------------------- 2.8/15.5 MB 3.7 MB/s eta 0:00:04\n",
      "   ------- -------------------------------- 3.0/15.5 MB 3.7 MB/s eta 0:00:04\n",
      "   -------- ------------------------------- 3.2/15.5 MB 3.8 MB/s eta 0:00:04\n",
      "   -------- ------------------------------- 3.4/15.5 MB 3.8 MB/s eta 0:00:04\n",
      "   --------- ------------------------------ 3.7/15.5 MB 3.8 MB/s eta 0:00:04\n",
      "   ---------- ----------------------------- 3.9/15.5 MB 3.9 MB/s eta 0:00:03\n",
      "   ---------- ----------------------------- 4.1/15.5 MB 3.9 MB/s eta 0:00:03\n",
      "   ----------- ---------------------------- 4.4/15.5 MB 3.9 MB/s eta 0:00:03\n",
      "   ----------- ---------------------------- 4.6/15.5 MB 3.9 MB/s eta 0:00:03\n",
      "   ------------ --------------------------- 4.7/15.5 MB 3.9 MB/s eta 0:00:03\n",
      "   ------------ --------------------------- 4.9/15.5 MB 3.9 MB/s eta 0:00:03\n",
      "   ------------ --------------------------- 5.0/15.5 MB 3.9 MB/s eta 0:00:03\n",
      "   ------------- -------------------------- 5.2/15.5 MB 3.9 MB/s eta 0:00:03\n",
      "   ------------- -------------------------- 5.4/15.5 MB 3.9 MB/s eta 0:00:03\n",
      "   -------------- ------------------------- 5.5/15.5 MB 3.8 MB/s eta 0:00:03\n",
      "   -------------- ------------------------- 5.8/15.5 MB 3.9 MB/s eta 0:00:03\n",
      "   --------------- ------------------------ 6.0/15.5 MB 3.9 MB/s eta 0:00:03\n",
      "   ---------------- ----------------------- 6.3/15.5 MB 4.0 MB/s eta 0:00:03\n",
      "   ---------------- ----------------------- 6.6/15.5 MB 4.0 MB/s eta 0:00:03\n",
      "   ----------------- ---------------------- 6.9/15.5 MB 4.1 MB/s eta 0:00:03\n",
      "   ------------------ --------------------- 7.1/15.5 MB 4.1 MB/s eta 0:00:03\n",
      "   ------------------- -------------------- 7.4/15.5 MB 4.2 MB/s eta 0:00:02\n",
      "   ------------------- -------------------- 7.7/15.5 MB 4.3 MB/s eta 0:00:02\n",
      "   -------------------- ------------------- 8.0/15.5 MB 4.3 MB/s eta 0:00:02\n",
      "   --------------------- ------------------ 8.2/15.5 MB 4.3 MB/s eta 0:00:02\n",
      "   --------------------- ------------------ 8.5/15.5 MB 4.3 MB/s eta 0:00:02\n",
      "   ---------------------- ----------------- 8.8/15.5 MB 4.4 MB/s eta 0:00:02\n",
      "   ----------------------- ---------------- 9.0/15.5 MB 4.4 MB/s eta 0:00:02\n",
      "   ----------------------- ---------------- 9.2/15.5 MB 4.4 MB/s eta 0:00:02\n",
      "   ------------------------ --------------- 9.5/15.5 MB 4.5 MB/s eta 0:00:02\n",
      "   ------------------------- -------------- 9.7/15.5 MB 4.5 MB/s eta 0:00:02\n",
      "   ------------------------- -------------- 10.0/15.5 MB 4.5 MB/s eta 0:00:02\n",
      "   -------------------------- ------------- 10.3/15.5 MB 4.5 MB/s eta 0:00:02\n",
      "   --------------------------- ------------ 10.5/15.5 MB 4.6 MB/s eta 0:00:02\n",
      "   --------------------------- ------------ 10.8/15.5 MB 4.6 MB/s eta 0:00:02\n",
      "   ---------------------------- ----------- 11.0/15.5 MB 4.7 MB/s eta 0:00:01\n",
      "   ----------------------------- ---------- 11.3/15.5 MB 4.8 MB/s eta 0:00:01\n",
      "   ----------------------------- ---------- 11.6/15.5 MB 4.9 MB/s eta 0:00:01\n",
      "   ------------------------------ --------- 11.8/15.5 MB 4.9 MB/s eta 0:00:01\n",
      "   ------------------------------- -------- 12.1/15.5 MB 5.0 MB/s eta 0:00:01\n",
      "   ------------------------------- -------- 12.3/15.5 MB 5.2 MB/s eta 0:00:01\n",
      "   -------------------------------- ------- 12.5/15.5 MB 5.0 MB/s eta 0:00:01\n",
      "   -------------------------------- ------- 12.8/15.5 MB 5.2 MB/s eta 0:00:01\n",
      "   --------------------------------- ------ 13.0/15.5 MB 5.1 MB/s eta 0:00:01\n",
      "   ---------------------------------- ----- 13.2/15.5 MB 5.2 MB/s eta 0:00:01\n",
      "   ---------------------------------- ----- 13.5/15.5 MB 5.2 MB/s eta 0:00:01\n",
      "   ----------------------------------- ---- 13.8/15.5 MB 5.2 MB/s eta 0:00:01\n",
      "   ------------------------------------ --- 14.0/15.5 MB 5.2 MB/s eta 0:00:01\n",
      "   ------------------------------------ --- 14.2/15.5 MB 5.2 MB/s eta 0:00:01\n",
      "   ------------------------------------- -- 14.5/15.5 MB 5.3 MB/s eta 0:00:01\n",
      "   ------------------------------------- -- 14.6/15.5 MB 5.3 MB/s eta 0:00:01\n",
      "   -------------------------------------- - 14.9/15.5 MB 5.4 MB/s eta 0:00:01\n",
      "   -------------------------------------- - 15.1/15.5 MB 5.3 MB/s eta 0:00:01\n",
      "   ---------------------------------------  15.3/15.5 MB 5.4 MB/s eta 0:00:01\n",
      "   ---------------------------------------  15.5/15.5 MB 5.4 MB/s eta 0:00:01\n",
      "   ---------------------------------------- 15.5/15.5 MB 5.3 MB/s eta 0:00:00\n",
      "Installing collected packages: numpy\n",
      "Successfully installed numpy-1.26.4\n"
     ]
    }
   ],
   "source": [
    "pip install numpy"
   ]
  },
  {
   "cell_type": "code",
   "execution_count": 7,
   "metadata": {},
   "outputs": [
    {
     "name": "stdout",
     "output_type": "stream",
     "text": [
      "Collecting regex\n",
      "  Downloading regex-2023.12.25-cp312-cp312-win_amd64.whl.metadata (41 kB)\n",
      "     ---------------------------------------- 0.0/42.0 kB ? eta -:--:--\n",
      "     ------------------ ------------------- 20.5/42.0 kB 330.3 kB/s eta 0:00:01\n",
      "     -------------------------------------  41.0/42.0 kB 393.8 kB/s eta 0:00:01\n",
      "     -------------------------------------  41.0/42.0 kB 393.8 kB/s eta 0:00:01\n",
      "     -------------------------------------- 42.0/42.0 kB 253.9 kB/s eta 0:00:00\n",
      "Downloading regex-2023.12.25-cp312-cp312-win_amd64.whl (268 kB)\n",
      "   ---------------------------------------- 0.0/268.9 kB ? eta -:--:--\n",
      "   --------------------- ------------------ 143.4/268.9 kB 2.8 MB/s eta 0:00:01\n",
      "   ---------------------------------------  266.2/268.9 kB 3.3 MB/s eta 0:00:01\n",
      "   ---------------------------------------- 268.9/268.9 kB 2.4 MB/s eta 0:00:00\n",
      "Installing collected packages: regex\n",
      "Successfully installed regex-2023.12.25\n",
      "Note: you may need to restart the kernel to use updated packages.\n"
     ]
    }
   ],
   "source": [
    "pip install regex"
   ]
  },
  {
   "cell_type": "markdown",
   "metadata": {},
   "source": [
    "Finding maathirai counts for tamil words"
   ]
  },
  {
   "cell_type": "code",
   "execution_count": 10,
   "metadata": {},
   "outputs": [
    {
     "name": "stdout",
     "output_type": "stream",
     "text": [
      "Word mathirai: [5, 5, 8]\n",
      "New Word mathirai: [8, 8, 8]\n",
      "Total aksharam count: 24\n"
     ]
    }
   ],
   "source": [
    "from tamil import vaaninlp\n",
    "\n",
    "# Define the sentence\n",
    "sentence = \"\"\"கைத்தல நிறைகனி அப்பமொடவல்பொரி\"\"\"\n",
    "\n",
    "# Tokenize the sentence into words\n",
    "words = vaaninlp.word_tokenize(sentence)\n",
    "\n",
    "# Define lists for 3 types of characters\n",
    "mei_eluthu = ['்']\n",
    "kuril_eluthu = ['ெ', 'ி', 'ொ', 'ு', 'அ', 'இ', 'உ', 'எ', 'ஒ', 'க', 'ங', 'ச', 'ஞ', 'ட', 'ண', 'த', 'ந', 'ப', 'ம', 'ய', 'ர', 'ல', 'வ', 'ழ', 'ள',\n",
    "                'ற', 'ன']\n",
    "nedil_eluthu = ['ீ', 'ே', 'ோ', 'ௌ', 'ூ', 'ா', 'ஆ', 'ஈ', 'ஊ', 'ஏ', 'ஐ', 'ஓ', 'ௗ', 'ை']\n",
    "\n",
    "# Initialize an empty list to store word-count tuples\n",
    "word_counts = []\n",
    "\n",
    "# Loop through each word\n",
    "for word in words:\n",
    "    ku = 0\n",
    "    ned = 0\n",
    "    mei = 0\n",
    "    # Tokenize each word into characters\n",
    "    chars = vaaninlp.char_tokenize(word)\n",
    "    # Loop through the characters of the word\n",
    "    for char in chars:\n",
    "        # Check each character for kuril, nedil, mei\n",
    "        if char[-1] in kuril_eluthu:\n",
    "            ku += 1\n",
    "        elif char[-1] in nedil_eluthu:\n",
    "            ned += 2\n",
    "        if char[-1] == mei_eluthu[0]:\n",
    "            if chars[chars.index(char) - 1][-1] in nedil_eluthu:\n",
    "                mei += 1  # if previous of mei is nedil then 1\n",
    "            mei += 0.5  # simply for mei\n",
    "    # Calculate the total count of characters for the word\n",
    "    total_aksharam = int(ku + ned + mei)\n",
    "    # Append the word-count tuple to the list\n",
    "    word_counts.append(total_aksharam)\n",
    "\n",
    "# Print the list of word-count tuples\n",
    "print(\"Word mathirai:\",word_counts)\n",
    "\n",
    "for i in range(0,len(word_counts)):\n",
    "  if word_counts[i] <=4:\n",
    "    word_counts[i]=4\n",
    "  elif 4<word_counts[i]<=8:\n",
    "    word_counts[i]=8\n",
    "  else:\n",
    "    pass\n",
    "\n",
    "print(\"New Word mathirai:\",word_counts)\n",
    "\n",
    "total_akshara= sum(word_counts)\n",
    "print(\"Total aksharam count:\",total_akshara)"
   ]
  },
  {
   "cell_type": "markdown",
   "metadata": {},
   "source": [
    "Suggesting suitable talas for the given tamil sentence"
   ]
  },
  {
   "cell_type": "code",
   "execution_count": 13,
   "metadata": {},
   "outputs": [
    {
     "name": "stdout",
     "output_type": "stream",
     "text": [
      "Dhruva Thalam : None\n",
      "Matya Thalam : [8, 12]\n",
      "Roopaga Thalam : [6]\n",
      "Jambai Thalam : [6, 8, 12]\n",
      "Tiripuda Thalam : [8]\n",
      "Ada Thalam : [12]\n",
      "Eka Thalam : [3, 4]\n"
     ]
    }
   ],
   "source": [
    "import numpy as np\n",
    "\n",
    "def dhruva_talam(number):\n",
    "    dhruva_tala = [1, 0, 1, 1]\n",
    "    dhruva=[]\n",
    "    for i in range(3,10):  #for i in [3,4,5,7,9]:\n",
    "        dhruva_tala[0],dhruva_tala[2],dhruva_tala[3] = i, i, i\n",
    "        dhruva_tala[1]=2\n",
    "        Total = sum(dhruva_tala)\n",
    "        dhruva.append(Total)\n",
    "    Tot_dhruva = np.array(dhruva)\n",
    "    remove_idx = [3,5]\n",
    "    Tot_dhruva = np.delete(Tot_dhruva, remove_idx)\n",
    "    divisible = [num for num in Tot_dhruva if number % num == 0]\n",
    "    return divisible\n",
    "\n",
    "def matya_talam(number):\n",
    "    matya_tala = [1, 0, 1]\n",
    "    matya=[]\n",
    "    for i in range(3,10):\n",
    "        matya_tala[0],matya_tala[2] = i, i\n",
    "        matya_tala[1]=2\n",
    "        Total = sum(matya_tala)\n",
    "        matya.append(Total)\n",
    "    Tot_matya = np.array(matya)\n",
    "    remove_idx = [3,5]\n",
    "    Tot_matya = np.delete(Tot_matya, remove_idx)\n",
    "    divisible = [num for num in Tot_matya if number % num == 0]\n",
    "    return divisible\n",
    "\n",
    "def roopaga_talam(number):\n",
    "        roopaga_tala = [0, 1]\n",
    "        roopaga=[]\n",
    "        for i in range(3,10):\n",
    "            roopaga_tala[1] = i\n",
    "            roopaga_tala[0]=2\n",
    "            Total = sum(roopaga_tala)\n",
    "            roopaga.append(Total)\n",
    "        Tot_roopaga = np.array(roopaga)\n",
    "        remove_idx = [3,5]\n",
    "        Tot_roopaga = np.delete(Tot_roopaga, remove_idx)\n",
    "        divisible = [num for num in Tot_roopaga if number % num == 0]\n",
    "        return divisible\n",
    "\n",
    "\n",
    "def jambai_talam(number):\n",
    "    jambai_tala = [ 1 , '-' , 0]\n",
    "    jambai=[]\n",
    "    for i in range(3,10):\n",
    "        jambai_tala[0]= i\n",
    "        jambai_tala[1], jambai_tala[2] = 1, 2\n",
    "        Total = sum(jambai_tala)\n",
    "        jambai.append(Total)\n",
    "    Tot_jambai = np.array(jambai)\n",
    "    remove_idx= [3,5]\n",
    "    Tot_jambai = np.delete(Tot_jambai, remove_idx)\n",
    "    divisible = [num for num in Tot_jambai if number % num == 0]\n",
    "    return divisible\n",
    "\n",
    "def tiripuda_talam(number):\n",
    "    tiripuda_tala = [1, 0, 0]\n",
    "    tiripuda=[]\n",
    "    for i in range(3,10):\n",
    "        tiripuda_tala[0]= i\n",
    "        tiripuda_tala[1], tiripuda_tala[2] = 2, 2\n",
    "        Total = sum(tiripuda_tala)\n",
    "        tiripuda.append(Total)\n",
    "    Tot_tiripuda = np.array(tiripuda)\n",
    "    remove_idx= [3,5]\n",
    "    Tot_tiripuda = np.delete(Tot_tiripuda, remove_idx)\n",
    "    divisible = [num for num in Tot_tiripuda if number % num == 0]\n",
    "    return divisible\n",
    "\n",
    "def ada_talam(number):\n",
    "    ada_tala = [ 1, 1, 0, 0]\n",
    "    ada = []\n",
    "    for i in range(3,10):\n",
    "        ada_tala[0], ada_tala[1]= i, i\n",
    "        ada_tala[2], ada_tala[3] = 2, 2\n",
    "        Total = sum(ada_tala)\n",
    "        ada.append(Total)\n",
    "    Tot_ada = np.array(ada)\n",
    "    remove_idx= [3,5]\n",
    "    Tot_ada = np.delete(Tot_ada, remove_idx)\n",
    "    divisible = [num for num in Tot_ada if number % num == 0]\n",
    "    return divisible\n",
    "\n",
    "def eka_talam(number):\n",
    "    eka_tala = [1]\n",
    "    eka = []\n",
    "    for i in range(3,10):\n",
    "        eka_tala[0]= i\n",
    "        Total = sum(eka_tala)\n",
    "        eka.append(Total)\n",
    "    Tot_eka = np.array(eka)\n",
    "    remove_idx= [3,5]\n",
    "    Tot_eka = np.delete(Tot_eka, remove_idx)\n",
    "    divisible = [num for num in Tot_eka if number % num == 0]\n",
    "    return divisible\n",
    "\n",
    "beat_divisible_check= total_akshara\n",
    "\n",
    "thalam={0:'Dhruva Thalam',1:'Matya Thalam',2:'Roopaga Thalam',3:'Jambai Thalam',4:'Tiripuda Thalam',5:'Ada Thalam',6:'Eka Thalam'}\n",
    "thalams=[dhruva_talam(beat_divisible_check),\n",
    "         matya_talam(beat_divisible_check),\n",
    "         roopaga_talam(beat_divisible_check),\n",
    "         jambai_talam(beat_divisible_check),\n",
    "         tiripuda_talam(beat_divisible_check),\n",
    "         ada_talam(beat_divisible_check),\n",
    "         eka_talam(beat_divisible_check)\n",
    "         ]\n",
    "def talam():\n",
    "  for tala in thalam:\n",
    "    if thalams[tala]!=[]:\n",
    "      print(thalam[tala],\":\", thalams[tala])\n",
    "    else:\n",
    "      print(thalam[tala],\":\",None)\n",
    "\n",
    "\n",
    "talam()\n"
   ]
  }
 ],
 "metadata": {
  "kernelspec": {
   "display_name": "Python 3",
   "language": "python",
   "name": "python3"
  },
  "language_info": {
   "codemirror_mode": {
    "name": "ipython",
    "version": 3
   },
   "file_extension": ".py",
   "mimetype": "text/x-python",
   "name": "python",
   "nbconvert_exporter": "python",
   "pygments_lexer": "ipython3",
   "version": "3.12.2"
  }
 },
 "nbformat": 4,
 "nbformat_minor": 2
}
