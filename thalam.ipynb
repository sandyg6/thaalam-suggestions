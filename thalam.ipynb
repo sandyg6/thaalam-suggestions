{
 "cells": [
  {
   "cell_type": "markdown",
   "metadata": {},
   "source": [
    "Installing libraries"
   ]
  },
   "source": [
    "pip install VaaniNLP"
   ]
  },

   "source": [
    "pip install tamil"
   ]
  },
   "source": [
    "pip install numpy"
   ]
  },
   "source": [
    "pip install regex"
   ]
  },
  {
   "cell_type": "markdown",
   "metadata": {},
   "source": [
    "Finding maathirai counts for tamil words"
   ]
  },
  {
   "cell_type": "code",
   "execution_count": 10,
   "metadata": {},
   "outputs": [
    {
     "name": "stdout",
     "output_type": "stream",
     "text": [
      "Word mathirai: [5, 5, 8]\n",
      "New Word mathirai: [8, 8, 8]\n",
      "Total aksharam count: 24\n"
     ]
    }
   ],
   "source": [
    "from tamil import vaaninlp\n",
    "\n",
    "# Define the sentence\n",
    "sentence = \"\"\"கைத்தல நிறைகனி அப்பமொடவல்பொரி\"\"\"\n",
    "\n",
    "# Tokenize the sentence into words\n",
    "words = vaaninlp.word_tokenize(sentence)\n",
    "\n",
    "# Define lists for 3 types of characters\n",
    "mei_eluthu = ['்']\n",
    "kuril_eluthu = ['ெ', 'ி', 'ொ', 'ு', 'அ', 'இ', 'உ', 'எ', 'ஒ', 'க', 'ங', 'ச', 'ஞ', 'ட', 'ண', 'த', 'ந', 'ப', 'ம', 'ய', 'ர', 'ல', 'வ', 'ழ', 'ள',\n",
    "                'ற', 'ன']\n",
    "nedil_eluthu = ['ீ', 'ே', 'ோ', 'ௌ', 'ூ', 'ா', 'ஆ', 'ஈ', 'ஊ', 'ஏ', 'ஐ', 'ஓ', 'ௗ', 'ை']\n",
    "\n",
    "# Initialize an empty list to store word-count tuples\n",
    "word_counts = []\n",
    "\n",
    "# Loop through each word\n",
    "for word in words:\n",
    "    ku = 0\n",
    "    ned = 0\n",
    "    mei = 0\n",
    "    # Tokenize each word into characters\n",
    "    chars = vaaninlp.char_tokenize(word)\n",
    "    # Loop through the characters of the word\n",
    "    for char in chars:\n",
    "        # Check each character for kuril, nedil, mei\n",
    "        if char[-1] in kuril_eluthu:\n",
    "            ku += 1\n",
    "        elif char[-1] in nedil_eluthu:\n",
    "            ned += 2\n",
    "        if char[-1] == mei_eluthu[0]:\n",
    "            if chars[chars.index(char) - 1][-1] in nedil_eluthu:\n",
    "                mei += 1  # if previous of mei is nedil then 1\n",
    "            mei += 0.5  # simply for mei\n",
    "    # Calculate the total count of characters for the word\n",
    "    total_aksharam = int(ku + ned + mei)\n",
    "    # Append the word-count tuple to the list\n",
    "    word_counts.append(total_aksharam)\n",
    "\n",
    "# Print the list of word-count tuples\n",
    "print(\"Word mathirai:\",word_counts)\n",
    "\n",
    "for i in range(0,len(word_counts)):\n",
    "  if word_counts[i] <=4:\n",
    "    word_counts[i]=4\n",
    "  elif 4<word_counts[i]<=8:\n",
    "    word_counts[i]=8\n",
    "  else:\n",
    "    pass\n",
    "\n",
    "print(\"New Word mathirai:\",word_counts)\n",
    "\n",
    "total_akshara= sum(word_counts)\n",
    "print(\"Total aksharam count:\",total_akshara)"
   ]
  },
  {
   "cell_type": "markdown",
   "metadata": {},
   "source": [
    "Suggesting suitable talas for the given tamil sentence"
   ]
  },
  {
   "cell_type": "code",
   "execution_count": 13,
   "metadata": {},
   "outputs": [
    {
     "name": "stdout",
     "output_type": "stream",
     "text": [
      "Dhruva Thalam : None\n",
      "Matya Thalam : [8, 12]\n",
      "Roopaga Thalam : [6]\n",
      "Jambai Thalam : [6, 8, 12]\n",
      "Tiripuda Thalam : [8]\n",
      "Ada Thalam : [12]\n",
      "Eka Thalam : [3, 4]\n"
     ]
    }
   ],
   "source": [
    "import numpy as np\n",
    "\n",
    "def dhruva_talam(number):\n",
    "    dhruva_tala = [1, 0, 1, 1]\n",
    "    dhruva=[]\n",
    "    for i in range(3,10):  #for i in [3,4,5,7,9]:\n",
    "        dhruva_tala[0],dhruva_tala[2],dhruva_tala[3] = i, i, i\n",
    "        dhruva_tala[1]=2\n",
    "        Total = sum(dhruva_tala)\n",
    "        dhruva.append(Total)\n",
    "    Tot_dhruva = np.array(dhruva)\n",
    "    remove_idx = [3,5]\n",
    "    Tot_dhruva = np.delete(Tot_dhruva, remove_idx)\n",
    "    divisible = [num for num in Tot_dhruva if number % num == 0]\n",
    "    return divisible\n",
    "\n",
    "def matya_talam(number):\n",
    "    matya_tala = [1, 0, 1]\n",
    "    matya=[]\n",
    "    for i in range(3,10):\n",
    "        matya_tala[0],matya_tala[2] = i, i\n",
    "        matya_tala[1]=2\n",
    "        Total = sum(matya_tala)\n",
    "        matya.append(Total)\n",
    "    Tot_matya = np.array(matya)\n",
    "    remove_idx = [3,5]\n",
    "    Tot_matya = np.delete(Tot_matya, remove_idx)\n",
    "    divisible = [num for num in Tot_matya if number % num == 0]\n",
    "    return divisible\n",
    "\n",
    "def roopaga_talam(number):\n",
    "        roopaga_tala = [0, 1]\n",
    "        roopaga=[]\n",
    "        for i in range(3,10):\n",
    "            roopaga_tala[1] = i\n",
    "            roopaga_tala[0]=2\n",
    "            Total = sum(roopaga_tala)\n",
    "            roopaga.append(Total)\n",
    "        Tot_roopaga = np.array(roopaga)\n",
    "        remove_idx = [3,5]\n",
    "        Tot_roopaga = np.delete(Tot_roopaga, remove_idx)\n",
    "        divisible = [num for num in Tot_roopaga if number % num == 0]\n",
    "        return divisible\n",
    "\n",
    "\n",
    "def jambai_talam(number):\n",
    "    jambai_tala = [ 1 , '-' , 0]\n",
    "    jambai=[]\n",
    "    for i in range(3,10):\n",
    "        jambai_tala[0]= i\n",
    "        jambai_tala[1], jambai_tala[2] = 1, 2\n",
    "        Total = sum(jambai_tala)\n",
    "        jambai.append(Total)\n",
    "    Tot_jambai = np.array(jambai)\n",
    "    remove_idx= [3,5]\n",
    "    Tot_jambai = np.delete(Tot_jambai, remove_idx)\n",
    "    divisible = [num for num in Tot_jambai if number % num == 0]\n",
    "    return divisible\n",
    "\n",
    "def tiripuda_talam(number):\n",
    "    tiripuda_tala = [1, 0, 0]\n",
    "    tiripuda=[]\n",
    "    for i in range(3,10):\n",
    "        tiripuda_tala[0]= i\n",
    "        tiripuda_tala[1], tiripuda_tala[2] = 2, 2\n",
    "        Total = sum(tiripuda_tala)\n",
    "        tiripuda.append(Total)\n",
    "    Tot_tiripuda = np.array(tiripuda)\n",
    "    remove_idx= [3,5]\n",
    "    Tot_tiripuda = np.delete(Tot_tiripuda, remove_idx)\n",
    "    divisible = [num for num in Tot_tiripuda if number % num == 0]\n",
    "    return divisible\n",
    "\n",
    "def ada_talam(number):\n",
    "    ada_tala = [ 1, 1, 0, 0]\n",
    "    ada = []\n",
    "    for i in range(3,10):\n",
    "        ada_tala[0], ada_tala[1]= i, i\n",
    "        ada_tala[2], ada_tala[3] = 2, 2\n",
    "        Total = sum(ada_tala)\n",
    "        ada.append(Total)\n",
    "    Tot_ada = np.array(ada)\n",
    "    remove_idx= [3,5]\n",
    "    Tot_ada = np.delete(Tot_ada, remove_idx)\n",
    "    divisible = [num for num in Tot_ada if number % num == 0]\n",
    "    return divisible\n",
    "\n",
    "def eka_talam(number):\n",
    "    eka_tala = [1]\n",
    "    eka = []\n",
    "    for i in range(3,10):\n",
    "        eka_tala[0]= i\n",
    "        Total = sum(eka_tala)\n",
    "        eka.append(Total)\n",
    "    Tot_eka = np.array(eka)\n",
    "    remove_idx= [3,5]\n",
    "    Tot_eka = np.delete(Tot_eka, remove_idx)\n",
    "    divisible = [num for num in Tot_eka if number % num == 0]\n",
    "    return divisible\n",
    "\n",
    "beat_divisible_check= total_akshara\n",
    "\n",
    "thalam={0:'Dhruva Thalam',1:'Matya Thalam',2:'Roopaga Thalam',3:'Jambai Thalam',4:'Tiripuda Thalam',5:'Ada Thalam',6:'Eka Thalam'}\n",
    "thalams=[dhruva_talam(beat_divisible_check),\n",
    "         matya_talam(beat_divisible_check),\n",
    "         roopaga_talam(beat_divisible_check),\n",
    "         jambai_talam(beat_divisible_check),\n",
    "         tiripuda_talam(beat_divisible_check),\n",
    "         ada_talam(beat_divisible_check),\n",
    "         eka_talam(beat_divisible_check)\n",
    "         ]\n",
    "def talam():\n",
    "  for tala in thalam:\n",
    "    if thalams[tala]!=[]:\n",
    "      print(thalam[tala],\":\", thalams[tala])\n",
    "    else:\n",
    "      print(thalam[tala],\":\",None)\n",
    "\n",
    "\n",
    "talam()\n"
   ]
  }
 ],
 "metadata": {
  "kernelspec": {
   "display_name": "Python 3",
   "language": "python",
   "name": "python3"
  },
  "language_info": {
   "codemirror_mode": {
    "name": "ipython",
    "version": 3
   },
   "file_extension": ".py",
   "mimetype": "text/x-python",
   "name": "python",
   "nbconvert_exporter": "python",
   "pygments_lexer": "ipython3",
   "version": "3.12.2"
  }
 },
 "nbformat": 4,
 "nbformat_minor": 2
}
